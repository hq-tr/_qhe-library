{
 "cells": [
  {
   "cell_type": "markdown",
   "metadata": {},
   "source": [
    "# _qhe-library DOCUMENTATION<br>\n",
    "Updated 2021-07-01\n",
    "\n",
    "This is a documentation for my FQHE library<br>\n",
    "A version of this library is available on both of Prof Yang's workstation.<br>\n",
    "To access them, add the following at the begining of your Python script:"
   ]
  },
  {
   "cell_type": "code",
   "execution_count": null,
   "metadata": {},
   "outputs": [],
   "source": []
  },
  {
   "cell_type": "markdown",
   "metadata": {},
   "source": [
    "Alternatively, you can copy relevant modules to your own subfolder and import from there.\n",
    "\n",
    "Although I am constantly updating this library, I (try to)  make every update backward-compatible, so all of the things in these documents should still work for future updates.\n",
    "\n",
    "In each of the module explained below, I also indicate dependency on any of the other modules in the library. This means that if you want to use a module x.py that is also dependent on y.py and z.py, you must put x.py, y.py, and z.py in your current directory. (If you add the import sys.... as above, you don't have to worry about this.)\n",
    "\n",
    "Of course, I assume you already have scipy, numpy, and sympy.\n",
    "\n",
    "### I. The FQH_states module\n",
    "> Dependency: misc.py\n",
    "\n",
    "The first useful module is **FQH_states**. The most important feature in this module is the class **fqh_states**: "
   ]
  },
  {
   "cell_type": "code",
   "execution_count": null,
   "metadata": {
    "scrolled": true
   },
   "outputs": [],
   "source": [
    "from FQH_states import *\n",
    "\n",
    "\n",
    "x = fqh_state()\n",
    "print(x.basis)\n",
    "print(x.coef)"
   ]
  },
  {
   "cell_type": "markdown",
   "metadata": {},
   "source": [
    "When there is no argument (such as in the above example), and empty state will be initialized. An fqh_state variable has two main attributes, **.basis**, which stores the basis states, and **.coef**, which stores the corresponding coefficient.\n",
    "\n",
    "A state can be initialized by either of the following two methods"
   ]
  },
  {
   "cell_type": "markdown",
   "metadata": {},
   "source": [
    "###### METHOD 1: Specify the basis and corresponding coefficient"
   ]
  },
  {
   "cell_type": "code",
   "execution_count": null,
   "metadata": {},
   "outputs": [],
   "source": [
    "basis = [\"1001\", \"0110\"]\n",
    "coef  = [1,-3]\n",
    "\n",
    "psi = fqh_state((basis, coef)) # Note that the argument is a 2-element tuple\n",
    "print(psi.basis)\n",
    "print(psi.coef)\n",
    "\n",
    "print(\"----\")\n",
    "# The basis can either be in binary format (as above) or decimal:\n",
    "basis_decimal = [9,6]\n",
    "psi_2 = fqh_state((basis_decimal,coef))\n",
    "print(psi_2.basis)\n",
    "print(psi_2.coef)\n"
   ]
  },
  {
   "cell_type": "markdown",
   "metadata": {},
   "source": [
    "###### METHOD 2: Specify the text file that contains the wavefunction\n",
    "\n",
    "The text file must be in the standard format (explained below)"
   ]
  },
  {
   "cell_type": "code",
   "execution_count": null,
   "metadata": {},
   "outputs": [],
   "source": [
    "psi_3 = fqh_state(\"sample_state_bin\")\n",
    "print(psi_3.basis)\n",
    "print(psi_3.coef)\n",
    "print(psi_3.format)\n",
    "\n",
    "print(\"---\")\n",
    "# It will automatically detect the basis format in the file.\n",
    "# Above shows an example of a wavefunction stored in binary format.\n",
    "# An example of a wavefunction stored in decimal is as follows\n",
    "psi_4 = fqh_state(\"sample_state_dec\")\n",
    "print(psi_4.basis)\n",
    "print(psi_4.coef)\n",
    "print(psi_4.format)\n"
   ]
  },
  {
   "cell_type": "markdown",
   "metadata": {},
   "source": [
    "**.format_convert()** is used to convert between binary and decimal. The code will detect the current format the vector is in, and convert it to the other.\n",
    "\n",
    "When converting from decimal to binary, an additional input of *N_orb* is required\n",
    "\n",
    "**NOTE THAT in this update, this conversion only works for fermionic states. For bosonic state, all other features of this class is still useable (in particular the vector space operations) but not the conversion**"
   ]
  },
  {
   "cell_type": "code",
   "execution_count": null,
   "metadata": {},
   "outputs": [],
   "source": [
    "psi_3.format_convert()\n",
    "print(psi_3.basis)\n",
    "print(psi_3.coef)\n",
    "print(psi_3.format)\n",
    "\n",
    "print(\"---\")\n",
    "# Converting from decimalto binary requires an additional input of N_orbital\n",
    "psi_4.format_convert(No=4)\n",
    "print(psi_4.basis)\n",
    "print(psi_4.coef)\n",
    "print(psi_4.format)\n",
    "\n",
    "# If N_orb is not specified, the program will prompt user to input it manually"
   ]
  },
  {
   "cell_type": "markdown",
   "metadata": {},
   "source": [
    "When converting wavefunction format (either binary to decimal or decimal to binary), one can also choose to *invert* all the basis (i.e. reading all the binary roots backward):"
   ]
  },
  {
   "cell_type": "code",
   "execution_count": null,
   "metadata": {},
   "outputs": [],
   "source": [
    "from FQH_states import *\n",
    "psi = fqh_state(([\"01001\",\"00110\"], [1,-3]))\n",
    "\n",
    "print(psi.basis)\n",
    "\n",
    "psi.format_convert(invert = True) # convert to decimal with inversion\n",
    "psi.format_convert(No=5)         # convert back to binary to compare\n",
    "print(psi.basis)"
   ]
  },
  {
   "cell_type": "markdown",
   "metadata": {},
   "source": [
    "This feature exist because according to Prof Yang's convention, **left-most digit is the north pole**, while I wrote all my code with the convention that the **left-most digit is the south pole**. \n",
    "\n",
    "(\"south pole\" means Lz = -S on the sphere or m=0 on the disk)\n",
    "\n",
    "For example, \"01001\" is 2^1+2^4 = 18 in my convention, but is 2^0+2^3 = 9 in Prof Yang's convention. *Our conventions agree on the decimal representation, but disagree on the binary convention*.\n",
    "\n",
    "Inversion is needed if one wants to incorporate both Prof Yang's and mine routines in a single task."
   ]
  },
  {
   "cell_type": "markdown",
   "metadata": {},
   "source": [
    "**.printwf()** is used to display the wavefunction in *traditional format*. This format starts with the dimension of the state, followed by pairs of basis vectors (in either binary or decimal format) and the corresponding coefficients.\n",
    "\n",
    "If no argument is supplied, **.printwf()** will print the state to screen. A string variable can be supplied to save the state to a text file with that name."
   ]
  },
  {
   "cell_type": "code",
   "execution_count": null,
   "metadata": {},
   "outputs": [],
   "source": [
    "basis = [\"1001\", \"0110\"]\n",
    "coef  = [1,-3]\n",
    "\n",
    "psi = fqh_state((basis, coef))\n",
    "\n",
    "psi.printwf()"
   ]
  },
  {
   "cell_type": "code",
   "execution_count": null,
   "metadata": {},
   "outputs": [],
   "source": [
    "psi.printwf(\"test.txt\") # You can check the current directory for this new file"
   ]
  },
  {
   "cell_type": "markdown",
   "metadata": {},
   "source": [
    "**fqh_state** variables come with inbuilt standard operations on a vector space, namely:\n",
    "\n",
    "##### Scalar multiplication:"
   ]
  },
  {
   "cell_type": "code",
   "execution_count": null,
   "metadata": {},
   "outputs": [],
   "source": [
    "a = 2*psi\n",
    "a.printwf()"
   ]
  },
  {
   "cell_type": "markdown",
   "metadata": {},
   "source": [
    "###### Addition:"
   ]
  },
  {
   "cell_type": "code",
   "execution_count": null,
   "metadata": {},
   "outputs": [],
   "source": [
    "b = fqh_state(([\"1001001\",\"0110001\"], [0.2,0.3]))\n",
    "print(\"b =\")\n",
    "b.printwf()\n",
    "\n",
    "c = fqh_state(([\"1001001\", \"1000110\"], [0.1,0.4]))\n",
    "print(\"c = \")\n",
    "c.printwf()\n",
    "\n",
    "d = b + c\n",
    "print(\"b+c =\")\n",
    "d.printwf()"
   ]
  },
  {
   "cell_type": "markdown",
   "metadata": {},
   "source": [
    "###### Inner product:"
   ]
  },
  {
   "cell_type": "code",
   "execution_count": null,
   "metadata": {},
   "outputs": [],
   "source": [
    "print(\"<b|c> =\")\n",
    "print(b.overlap(c))"
   ]
  },
  {
   "cell_type": "markdown",
   "metadata": {},
   "source": [
    "There are currently two normalization schemes available:\n",
    "\n",
    "1. **.normalize()** for the usual normalization\n",
    "2. **.sphere_normalize()** to convert a pure jack polynomial to the wavefunction on the sphere"
   ]
  },
  {
   "cell_type": "code",
   "execution_count": null,
   "metadata": {},
   "outputs": [],
   "source": [
    "psi = fqh_state(([\"1001\",\"0110\"], [1,-3]))\n",
    "psi.normalize()\n",
    "psi.printwf()\n",
    "print(\"norm = \")\n",
    "print(psi.norm())"
   ]
  },
  {
   "cell_type": "code",
   "execution_count": null,
   "metadata": {},
   "outputs": [],
   "source": [
    "psi = fqh_state(([\"1001\",\"0110\"], [1,-3]))\n",
    "psi.sphere_normalize()\n",
    "psi.printwf()\n",
    "print(\"norm = \")\n",
    "print(psi.norm())"
   ]
  },
  {
   "cell_type": "markdown",
   "metadata": {},
   "source": [
    "It will also be useful to get what I call the \"index\" format of the basis vectors. The index format of each basis vector is a list of orbital indices that are occupied by an electrons. 0 indexes the left-most orbital and *N_orb-1* indices the right-most orbital.\n",
    "\n",
    "One can obtain this index format by **.get_basis_index()**. As always, if the state is in decimal format, *N_orb* must be supplied as an argument."
   ]
  },
  {
   "cell_type": "code",
   "execution_count": null,
   "metadata": {},
   "outputs": [],
   "source": [
    "psi = fqh_state(([\"1001\",\"0110\"], [1,-3]))\n",
    "bas = psi.get_basis_index()\n",
    "print(bas)"
   ]
  },
  {
   "cell_type": "markdown",
   "metadata": {},
   "source": [
    "There is another variable class, **fqh_state_boson**, that has almost all of the above features, but is used for bosonic state. The difference is that in \"binary\" representation, bosonic state can have digits greater than 1 because Pauli exclusion princle doesn't hold.\n",
    "\n",
    "For this class, every function above holds except for **.normalize_sphere()** and basis format conversion from decimal to binary (but **.format_convert()** works fine for binary-to-decimal."
   ]
  },
  {
   "cell_type": "markdown",
   "metadata": {},
   "source": [
    "### II. The task1 module\n",
    "\n",
    "> Dependency: misc.py, angular_momentum.py\n",
    "\n",
    "This was the first module I have ever written, hence the naming is quite silly. However it does contain some functions that are still useful (and I have updated it eversince to optimize some routines)."
   ]
  },
  {
   "cell_type": "code",
   "execution_count": null,
   "metadata": {},
   "outputs": [],
   "source": [
    "import task1"
   ]
  },
  {
   "cell_type": "markdown",
   "metadata": {},
   "source": [
    "Below are some important functions in this module\n",
    "\n",
    "**task1.findBasis_brute(No,Ne,return_index=False, Lz=0, bosonic=False)** is a function that returns all basis states of a particular Hilbert space (no truncation). It takes the following variables:\n",
    "\n",
    "1. Ne: Number of particles\n",
    "2. No: Number of orbitals\n",
    "3. return_index: set to True to return the index format (explained above). If set to False, it will return in an obsolete format that I no longer use, so don't bother. Just always remember to set this to True\n",
    "4. Lz: The L_z sector, default = 0\n",
    "5. bosonic: set to True if you want the bosonic states (more than one particle can occupy an orbital)\n",
    "\n",
    "**task1.LplusLminus_2(basis_index, Ne, No)** returns the matrix L^+L^- FOR FERMIONIC STATE ONLY (for bosonic equivalent see angular_momentum module below). There are multiple version of this routine in the module (hence the suffix \"_2\"), but this is the fastest. This function takes the following variables\n",
    "\n",
    "1. basis_index: list of all basis vectors in index format, i.e. the output of findBasis_brute() above\n",
    "2. Ne: Number of electrons\n",
    "3. No: Number of orbitals\n",
    "\n",
    "**task1.get_highest_weight(Ne,No,Lz, bosonic=False, basisformat=\"index\")** returns a tuple (b,z) where b is a list of basis and z is a dim-by-N array where dim is the dimension of the full Hilbert space in the given L_z sector and N is the number of highest-weight state in that sector. It takes the following variables:\n",
    "\n",
    "1. Ne: Number of particles\n",
    "2. No: Number of orbitals\n",
    "3. Lz: The L_z sector (no default value)\n",
    "4. bosonic: set to True to find the bosonic state\n",
    "5. basisformat: set to either \"index\", \"dec\" for decimal, or \"bin\" for binary. Either of this three options works as they should.\n",
    "\n",
    "NOTE THAT if bosonic = True, it will return the highest-weight states whereas if bosonic = False,it will return the LOWEST-WEIGHT states. Lowest weight can be converted to highest-weight by inverting the vector. \n",
    "\n",
    "Below are two examples."
   ]
  },
  {
   "cell_type": "code",
   "execution_count": 1,
   "metadata": {},
   "outputs": [
    {
     "name": "stdout",
     "output_type": "stream",
     "text": [
      "# of lowest-weight state: 1\n",
      "\n",
      "lowest-weight state = \n",
      "6\n",
      "10100001\n",
      "-0.0\n",
      "10010010\n",
      "0.3162277660168378\n",
      "10001100\n",
      "-0.5477225575051659\n",
      "01100010\n",
      "-0.4629100498862757\n",
      "01010100\n",
      "0.41403933560541273\n",
      "00111000\n",
      "-0.4629100498862762\n",
      "\n",
      "highest-weight state =\n",
      "6\n",
      "10000101\n",
      "-0.0\n",
      "01001001\n",
      "0.3162277660168378\n",
      "00110001\n",
      "-0.5477225575051659\n",
      "01000110\n",
      "-0.4629100498862757\n",
      "00101010\n",
      "0.41403933560541273\n",
      "00011100\n",
      "-0.4629100498862762\n",
      "\n"
     ]
    }
   ],
   "source": [
    "import task1\n",
    "import FQH_states as FQH\n",
    "\n",
    "# Find the __fermionic__ highest weight states:\n",
    "(b,z) = task1.get_highest_weight(3, 8, -1.5, basisformat=\"bin\")\n",
    "\n",
    "# There should be one lowest weight state that is the Laughlin one-quasihole state\n",
    "print(f\"# of lowest-weight state: {len(z)}\")\n",
    "print()\n",
    "\n",
    "state = FQH.fqh_state((b,z[0]))\n",
    "print(\"lowest-weight state = \")\n",
    "state.printwf()\n",
    "\n",
    "# Convert to highest-weight by invert():\n",
    "state.invert()\n",
    "print(\"highest-weight state =\")\n",
    "state.printwf()"
   ]
  },
  {
   "cell_type": "code",
   "execution_count": 3,
   "metadata": {},
   "outputs": [
    {
     "name": "stdout",
     "output_type": "stream",
     "text": [
      "1\n",
      "highest-weight state = \n",
      "12\n",
      "2 0 0 0 0 2\n",
      "0.42470599286468785\n",
      "1 1 0 0 1 1\n",
      "-0.42470599286468774\n",
      "1 0 1 1 0 1\n",
      "0.0849411985729374\n",
      "1 0 1 0 2 0\n",
      "0.3038948705590346\n",
      "1 0 0 2 1 0\n",
      "-0.16116459280507608\n",
      "0 2 0 1 0 1\n",
      "0.3038948705590348\n",
      "0 2 0 0 2 0\n",
      "0.1528941574312877\n",
      "0 1 2 0 0 1\n",
      "-0.16116459280507614\n",
      "0 1 1 1 1 0\n",
      "-0.322776554577163\n",
      "0 1 0 3 0 0\n",
      "0.3530939318018999\n",
      "0 0 3 0 1 0\n",
      "0.35309393180189996\n",
      "0 0 2 2 0 0\n",
      "-0.13590591771670024\n",
      "\n"
     ]
    }
   ],
   "source": [
    "import task1\n",
    "import FQH_states as FQH\n",
    "\n",
    "# Find the __bosonic__ highest-weight state:\n",
    "(b,z) = task1.get_highest_weight(4, 6, 0, bosonic=True,basisformat=\"bin\")\n",
    "print(len(z))\n",
    "\n",
    "state = FQH.fqh_state_boson((b,z[0]))\n",
    "print(\"highest-weight state = \")\n",
    "state.printwf()\n",
    "\n",
    "state.format_convert()"
   ]
  },
  {
   "cell_type": "markdown",
   "metadata": {},
   "source": [
    "### III. The task2 module\n",
    "\n",
    "This module contains the basic functions for the LEC formalism.\n"
   ]
  },
  {
   "cell_type": "markdown",
   "metadata": {},
   "source": [
    "### IV. The angular_momentum module\n",
    "> Dependency: misc.py\n",
    "\n",
    "I wrote this before writing the **FQH_states** module therefore for all of the functions in this module, one must input the basis and coefficient as separate variables (rather than as one variable of the fqh_state class).\n",
    "\n",
    "This module contains four main functions: **Lplus, Lminus, Lplus_boson, Lminus_boson**. The ones without _boson are fermionic operators. The input arguments are the same for all four of them so I just use Lplus as an example:\n",
    "\n",
    "**angular_momentum.Lplus(basis_list, coef_list, No, debug=False, normalize=True)**:\n",
    "\n",
    "1. basis_list: a list of all basis vector **in decimal format**\n",
    "2. coef_list: the list of correspondoing coefficients\n",
    "3. No: number of orbitals\n",
    "4. debug: set to True to print out intermediate output for debugging purpose. Useful if you would like to modify the source code.\n",
    "5. normalize = True: normalize the resultant state.\n",
    "\n",
    "Output: b, c where b is the list of basis states and c is the list of corresponding coefficient in the resultant state."
   ]
  },
  {
   "cell_type": "markdown",
   "metadata": {},
   "source": [
    "This module also contains functions to construct the L^+L^- matrix for both bosons and fermions. LplusLminus (for fermionic) here isn't as efficient as **task1.LplusLminus_2**, so don't bother. The bosonic version is:\n",
    "\n",
    "**angular_momentum.LminusLplus_boson(basis_list_index, No)**:\n",
    "\n",
    "1. basis_list_index: a list of all basis vectors **in index format** (same requirement as task1.LplusLminus_2)\n",
    "2. No: Number of orbitals\n",
    "\n",
    "For bosonic, this is L^-L^+ instead of L^+L^- because it's the \"particle-hole conjugate\" of the fermionic L^+L^-.\n"
   ]
  },
  {
   "cell_type": "markdown",
   "metadata": {},
   "source": [
    "### V. The misc module\n",
    "> Dependency: none\n",
    "\n",
    "This contains a lot of foundational functions used in other modules in the library. It also contains a lot of standalone functions that used to be directly useable (such as reading and saving wavefunction files and converting file format). However most of these have been rendered obsolete after completion of the FQH_states module. For now I won't document it here."
   ]
  }
 ],
 "metadata": {
  "kernelspec": {
   "display_name": "Python 3",
   "language": "python",
   "name": "python3"
  },
  "language_info": {
   "codemirror_mode": {
    "name": "ipython",
    "version": 3
   },
   "file_extension": ".py",
   "mimetype": "text/x-python",
   "name": "python",
   "nbconvert_exporter": "python",
   "pygments_lexer": "ipython3",
   "version": "3.7.3"
  }
 },
 "nbformat": 4,
 "nbformat_minor": 4
}
